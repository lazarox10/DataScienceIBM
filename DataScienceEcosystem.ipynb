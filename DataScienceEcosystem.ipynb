{
 "cells": [
  {
   "cell_type": "markdown",
   "id": "54f9c785-16aa-4c5d-a43d-21517ee8bf82",
   "metadata": {},
   "source": [
    "# Data Science Tools and Ecosystem"
   ]
  },
  {
   "cell_type": "markdown",
   "id": "a0fb42cb-bfb8-4f07-b1c0-632adf28884e",
   "metadata": {},
   "source": [
    "In this notebook, Data Science Tools and Ecosystem are summarized"
   ]
  },
  {
   "cell_type": "markdown",
   "id": "ddd52eea-027e-4608-b337-0294db688bc8",
   "metadata": {},
   "source": [
    "**Objectives:**\n",
    "\n",
    "- List popular languages for Data Science\n",
    "- Introduce common libraries used in Data Science\n",
    "- Demonstrate basic arithmetic operations in Python\n",
    "- Show how to convert units using Python expressions\n",
    "- Explain the use of development environments in Data Science"
   ]
  },
  {
   "cell_type": "markdown",
   "id": "acaef9ec-26a5-4202-9cfe-426b364e993d",
   "metadata": {},
   "source": [
    "Some of the popular languages that Data Scientists use are:\n",
    "1. Python\n",
    "2. R\n",
    "3. Scala"
   ]
  },
  {
   "cell_type": "markdown",
   "id": "8f1198d1-bba1-4199-b1a0-08b27e6f731b",
   "metadata": {},
   "source": [
    "Some of the commonly used libraries used by Data Scientists include:\n",
    "1. NumPy: Numerical computing\n",
    "2. Pandas: Data manipulation and analysis\n",
    "3. Matplotlib: Data visualization\n",
    "4. Seaborn: Statistical data visualization\n",
    "5. Scikit-learn: Machine learning"
   ]
  },
  {
   "cell_type": "markdown",
   "id": "d248ce05-a5e0-440c-992a-aef77c09a7b3",
   "metadata": {},
   "source": [
    "| Data Science Tools |\n",
    "|--------------------|\n",
    "| Jupyter Notebook   |\n",
    "| RStudio            |\n",
    "| VS Code            |"
   ]
  },
  {
   "cell_type": "markdown",
   "id": "03cd879e-0c94-495a-b113-f1e10fca5118",
   "metadata": {
    "tags": []
   },
   "source": [
    "### Below are a few examples of evaluating arithmetic expressions in Python\n",
    "\n",
    "1. **Addition (+)**: `3 + 2` results in `5`\n",
    "2. **Subtraction (-)**: `7 - 4` results in `3`\n",
    "3. **Multiplication (*)**: `5 * 6` results in `30`\n",
    "4. **Division (/)**: `8 / 2` results in `4.0`\n",
    "5. **Exponentiation (**)**: `2 ** 3` results in `8`\n",
    "6. **Modulo (%)**: `10 % 3` results in `1`"
   ]
  },
  {
   "cell_type": "code",
   "execution_count": 2,
   "id": "0ff3cbb0-4da2-4b16-a770-b69559ac95d6",
   "metadata": {
    "tags": []
   },
   "outputs": [
    {
     "data": {
      "text/plain": [
       "17"
      ]
     },
     "execution_count": 2,
     "metadata": {},
     "output_type": "execute_result"
    }
   ],
   "source": [
    "# This is a simple arithmetic expression to multiply then add integers\n",
    "(3*4)+5"
   ]
  },
  {
   "cell_type": "code",
   "execution_count": 3,
   "id": "48e10915-2035-498b-84ef-ee240d4b2ab0",
   "metadata": {
    "tags": []
   },
   "outputs": [
    {
     "data": {
      "text/plain": [
       "3.3333333333333335"
      ]
     },
     "execution_count": 3,
     "metadata": {},
     "output_type": "execute_result"
    }
   ],
   "source": [
    "# This will convert 200 minutes to hours by dividing by 60\n",
    "200 / 60"
   ]
  },
  {
   "cell_type": "markdown",
   "id": "9672dcba-7b1f-482c-89db-00bebb5442cc",
   "metadata": {},
   "source": [
    "## Author\n",
    "Daniel Martinez"
   ]
  }
 ],
 "metadata": {
  "kernelspec": {
   "display_name": "Python",
   "language": "python",
   "name": "conda-env-python-py"
  },
  "language_info": {
   "codemirror_mode": {
    "name": "ipython",
    "version": 3
   },
   "file_extension": ".py",
   "mimetype": "text/x-python",
   "name": "python",
   "nbconvert_exporter": "python",
   "pygments_lexer": "ipython3",
   "version": "3.7.12"
  }
 },
 "nbformat": 4,
 "nbformat_minor": 5
}
